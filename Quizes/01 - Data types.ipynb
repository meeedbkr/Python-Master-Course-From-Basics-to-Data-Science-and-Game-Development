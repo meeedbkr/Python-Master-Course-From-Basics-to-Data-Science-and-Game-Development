{
 "cells": [
  {
   "cell_type": "markdown",
   "id": "e8ec9a2b-d5f3-43b1-96fc-4242436cb418",
   "metadata": {
    "tags": []
   },
   "source": [
    "# Quiz N°1 : Data Types"
   ]
  },
  {
   "cell_type": "markdown",
   "id": "943b4038-bbd7-413f-a6cf-7e03ea79c6b2",
   "metadata": {},
   "source": [
    "## Question 1:\n",
    "Which is the proper way of assigning a value to any variable in python3 ?\n",
    "\n",
    "1. **`x = 5`**\n",
    "1. **`x == 5`**\n",
    "1. **`int x = 5`**\n",
    "1. **`x = 5;`**\n",
    "1. **`x == 5;`**"
   ]
  },
  {
   "cell_type": "markdown",
   "id": "31d6b24f-b375-49e3-8423-f32fc3f8285e",
   "metadata": {},
   "source": [
    "## Question 2:\n",
    "How **``eel``** is selected from\n",
    "**${x =  wheel}$**\n",
    "by using indexing in python3 ?\n",
    "\n",
    "1. **`x[[2:5]]`**\n",
    "1. **`x[2:5]`**\n",
    "1. **`x[:5]`**\n",
    "1. **`x[2:]`**\n",
    "1. **`x[2:4]`**"
   ]
  },
  {
   "cell_type": "markdown",
   "id": "e5c4d550-dcad-4842-a57f-dcd31746328b",
   "metadata": {
    "tags": []
   },
   "source": [
    "## Question 3:\n",
    "What is the output of folowing syntax\n",
    "**x = save water** \\\n",
    "**``x[3:8]``**\n",
    "\n",
    "1. **`ave wa`**\n",
    "1. **`e wat`**\n",
    "1. **`e wate`**\n",
    "1. **`water`**"
   ]
  },
  {
   "cell_type": "markdown",
   "id": "7c854c3b-52e4-49be-8823-c579dd192f0f",
   "metadata": {
    "tags": []
   },
   "source": [
    "## Question 4:\n",
    "which of these is a list?\n",
    "\n",
    "1. **`x = [pagger]`**\n",
    "1. **`x = ['pagger']`**\n",
    "1. **`x = (pagger)`**\n",
    "1. **`x = 'pagger'`**"
   ]
  },
  {
   "cell_type": "markdown",
   "id": "b375d2fb-d397-40e2-9a61-712c65243eec",
   "metadata": {},
   "source": [
    "## Question 5:\n",
    "Which of these is a tuple?\n",
    "\n",
    "1. **`[supper pugger]`**\n",
    "1. **`(supper pugger)`**\n",
    "1. **`'supper pugger'`**\n",
    "1. **`('supper pugger')`**"
   ]
  },
  {
   "cell_type": "markdown",
   "id": "2bcb8a83-21a8-4b7c-9a22-2dd4aca1f967",
   "metadata": {},
   "source": [
    "## Question 6:\n",
    "Which of these is not correct?\n",
    "\n",
    "1. **`x = 'water is important'`**\n",
    "1. **`x = 'water','is','important'`**\n",
    "1. **`x = ['water','is','important']`**\n",
    "1. **`x = ('water','is','important')`**"
   ]
  },
  {
   "cell_type": "markdown",
   "id": "658235b8-c7c1-4f52-b5a0-9f9fd33b306b",
   "metadata": {},
   "source": [
    "## Question 7:\n",
    "What is the output of following syntax-\n",
    "```python\n",
    "x = 3\n",
    "\n",
    "y = 3\n",
    "\n",
    "x == y\n",
    "```\n",
    "\n",
    "1. **`Syntax Error`**\n",
    "1. **`True`**\n",
    "1. **`False`**\n",
    "1. **`Value Error`**"
   ]
  },
  {
   "cell_type": "code",
   "execution_count": null,
   "id": "039637c4-915c-44b1-8d9f-7578fb26b54b",
   "metadata": {},
   "outputs": [],
   "source": []
  }
 ],
 "metadata": {
  "kernelspec": {
   "display_name": "Python 3 (ipykernel)",
   "language": "python",
   "name": "python3"
  },
  "language_info": {
   "codemirror_mode": {
    "name": "ipython",
    "version": 3
   },
   "file_extension": ".py",
   "mimetype": "text/x-python",
   "name": "python",
   "nbconvert_exporter": "python",
   "pygments_lexer": "ipython3",
   "version": "3.9.10"
  }
 },
 "nbformat": 4,
 "nbformat_minor": 5
}
