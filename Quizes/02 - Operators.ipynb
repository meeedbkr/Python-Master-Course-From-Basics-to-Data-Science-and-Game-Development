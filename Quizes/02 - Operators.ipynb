{
 "cells": [
  {
   "cell_type": "markdown",
   "id": "2fa7d008-05e6-4ab0-a173-7ce637cbabac",
   "metadata": {},
   "source": [
    "# Quiz N°2 : Operators"
   ]
  },
  {
   "cell_type": "markdown",
   "id": "cae9c116-3d70-40ff-b452-38f4a7b65581",
   "metadata": {
    "tags": []
   },
   "source": [
    "## Question 1:\n",
    "What is the output for this operation ?\\\n",
    "**`9.0/2`**\n",
    "\n",
    "1. **`4.0`**\n",
    "1. **`4`**\n",
    "1. **`4.5`**\n",
    "1. **`1.0`**\n",
    "1. **`0`**"
   ]
  },
  {
   "cell_type": "markdown",
   "id": "88c01436-967b-4f0a-9c7b-ff7ec6e55fd4",
   "metadata": {
    "tags": []
   },
   "source": [
    "## Question 2:\n",
    "What is the output for this operation?\\\n",
    "**`5 * 4 / 2`**\n",
    "\n",
    "1. **`10`**\n",
    "1. **`10.0`**\n",
    "1. **`Syntax Error`**\n",
    "1. **`Not Defined`**"
   ]
  },
  {
   "cell_type": "markdown",
   "id": "03e3ab09-6714-472f-8f9f-da86dd1060b8",
   "metadata": {
    "tags": []
   },
   "source": [
    "## Question 3:\n",
    "which one of these have higher precedency?\\\n",
    "\n",
    "1. **`*`**\n",
    "1. **`/`**\n",
    "1. **`**`**\n",
    "1. **`+`**"
   ]
  },
  {
   "cell_type": "markdown",
   "id": "7343620d-8a41-46f9-9657-13ae9aa43f3f",
   "metadata": {
    "tags": []
   },
   "source": [
    "## Question 4:\n",
    "what is the output of this syntax?\\\n",
    "**`(3+5**2-2)*2`**\n",
    "\n",
    "1. **`52`**\n",
    "1. **`124`**\n",
    "1. **`6`**\n",
    "1. **`45`**"
   ]
  },
  {
   "cell_type": "markdown",
   "id": "11d27dfa-16b6-4a14-84bc-47e99d9aeba2",
   "metadata": {},
   "source": [
    "## Question 5:\n",
    "Which of these have higher precedency?\n",
    "\n",
    "1. **`+`**\n",
    "1. **`-`**\n",
    "1. **`both + and - has the same`**\n",
    "1. **`none`**"
   ]
  },
  {
   "cell_type": "markdown",
   "id": "3c67a483-80bb-43a3-bfc2-f6c1adbfd99d",
   "metadata": {},
   "source": [
    "## Question 6:\n",
    "which of these are not a comparison operator?\n",
    "\n",
    "1. **`==`**\n",
    "1. **`<`**\n",
    "1. **`=`**\n",
    "1. **`<=`**\n",
    "1. **`>=`**"
   ]
  },
  {
   "cell_type": "markdown",
   "id": "f1e95f4a-ce51-4114-840e-43938025bc06",
   "metadata": {},
   "source": [
    "## Question 7:\n",
    "Which is bitwise operator?\n",
    "\n",
    "1. **`&`**\n",
    "1. **`||`**\n",
    "1. **`|`**\n",
    "1. **`both & and |`**\n",
    "1. **`both & and ||`**"
   ]
  },
  {
   "cell_type": "code",
   "execution_count": null,
   "id": "731ee739-8480-47fd-aae1-c22c7f49d174",
   "metadata": {},
   "outputs": [],
   "source": []
  }
 ],
 "metadata": {
  "kernelspec": {
   "display_name": "Python 3 (ipykernel)",
   "language": "python",
   "name": "python3"
  },
  "language_info": {
   "codemirror_mode": {
    "name": "ipython",
    "version": 3
   },
   "file_extension": ".py",
   "mimetype": "text/x-python",
   "name": "python",
   "nbconvert_exporter": "python",
   "pygments_lexer": "ipython3",
   "version": "3.9.10"
  }
 },
 "nbformat": 4,
 "nbformat_minor": 5
}
